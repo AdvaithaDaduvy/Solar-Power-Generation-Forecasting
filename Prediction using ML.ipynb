{
 "cells": [
  {
   "cell_type": "code",
   "execution_count": 1,
   "id": "e674e422",
   "metadata": {},
   "outputs": [],
   "source": [
    "# With pandas, one can efficiently analyze, manipulate, and process data \n",
    "import pandas as pd"
   ]
  },
  {
   "cell_type": "code",
   "execution_count": 2,
   "id": "9d035d2c",
   "metadata": {},
   "outputs": [],
   "source": [
    "# pd.read_csv() function in pandas is used to read data from a CSV file and create a DataFrame object.\n",
    "data = pd.read_csv('data.csv')"
   ]
  },
  {
   "cell_type": "code",
   "execution_count": 3,
   "id": "c5700d83",
   "metadata": {},
   "outputs": [
    {
     "name": "stdout",
     "output_type": "stream",
     "text": [
      "<class 'pandas.core.frame.DataFrame'>\n",
      "RangeIndex: 45680 entries, 0 to 45679\n",
      "Data columns (total 20 columns):\n",
      " #   Column               Non-Null Count  Dtype  \n",
      "---  ------               --------------  -----  \n",
      " 0   Unnamed: 0           45680 non-null  int64  \n",
      " 1   SOURCE_KEY           45680 non-null  object \n",
      " 2   DC_POWER             45680 non-null  float64\n",
      " 3   AC_POWER             45680 non-null  float64\n",
      " 4   DAILY_YIELD          45680 non-null  float64\n",
      " 5   TOTAL_YIELD          45680 non-null  float64\n",
      " 6   DATE_TIME            45680 non-null  object \n",
      " 7   AMBIENT_TEMPERATURE  45680 non-null  float64\n",
      " 8   MODULE_TEMPERATURE   45680 non-null  float64\n",
      " 9   IRRADIATION          45680 non-null  float64\n",
      " 10  DATE                 45680 non-null  object \n",
      " 11  TIME                 45680 non-null  object \n",
      " 12  DAY                  45680 non-null  int64  \n",
      " 13  MONTH                45680 non-null  int64  \n",
      " 14  WEEK                 45680 non-null  int64  \n",
      " 15  HOURS                45680 non-null  int64  \n",
      " 16  MINUTES              45680 non-null  int64  \n",
      " 17  TOTAL MINUTES PASS   45680 non-null  int64  \n",
      " 18  DATE_STRING          45680 non-null  object \n",
      " 19  SOURCE_KEY_NUMBER    45680 non-null  int64  \n",
      "dtypes: float64(7), int64(8), object(5)\n",
      "memory usage: 7.0+ MB\n"
     ]
    }
   ],
   "source": [
    "data.info()"
   ]
  },
  {
   "cell_type": "markdown",
   "id": "c7462c36",
   "metadata": {},
   "source": [
    "# Solar Power Prediction using different ML techniques"
   ]
  },
  {
   "cell_type": "code",
   "execution_count": 4,
   "id": "885a8d64",
   "metadata": {},
   "outputs": [],
   "source": [
    "# create a copy of 'data' and assign it to a new DataFrame called df_ml\n",
    "df_ml = data.copy()\n",
    "\n",
    "X = data[['DAILY_YIELD', 'TOTAL_YIELD', 'AMBIENT_TEMPERATURE', 'IRRADIATION']]\n",
    "y = data['AC_POWER']"
   ]
  },
  {
   "cell_type": "code",
   "execution_count": 5,
   "id": "718f38fd",
   "metadata": {},
   "outputs": [
    {
     "data": {
      "text/html": [
       "<style type=\"text/css\">\n",
       "#T_0c223_row0_col0, #T_0c223_row1_col1, #T_0c223_row2_col2, #T_0c223_row3_col3 {\n",
       "  background-color: #b40426;\n",
       "  color: #f1f1f1;\n",
       "}\n",
       "#T_0c223_row0_col1 {\n",
       "  background-color: #465ecf;\n",
       "  color: #f1f1f1;\n",
       "}\n",
       "#T_0c223_row0_col2 {\n",
       "  background-color: #dedcdb;\n",
       "  color: #000000;\n",
       "}\n",
       "#T_0c223_row0_col3 {\n",
       "  background-color: #516ddb;\n",
       "  color: #f1f1f1;\n",
       "}\n",
       "#T_0c223_row1_col0, #T_0c223_row1_col2, #T_0c223_row1_col3, #T_0c223_row2_col1 {\n",
       "  background-color: #3b4cc0;\n",
       "  color: #f1f1f1;\n",
       "}\n",
       "#T_0c223_row2_col0 {\n",
       "  background-color: #d9dce1;\n",
       "  color: #000000;\n",
       "}\n",
       "#T_0c223_row2_col3 {\n",
       "  background-color: #f7aa8c;\n",
       "  color: #000000;\n",
       "}\n",
       "#T_0c223_row3_col0 {\n",
       "  background-color: #4e68d8;\n",
       "  color: #f1f1f1;\n",
       "}\n",
       "#T_0c223_row3_col1 {\n",
       "  background-color: #4358cb;\n",
       "  color: #f1f1f1;\n",
       "}\n",
       "#T_0c223_row3_col2 {\n",
       "  background-color: #f7a889;\n",
       "  color: #000000;\n",
       "}\n",
       "</style>\n",
       "<table id=\"T_0c223\">\n",
       "  <thead>\n",
       "    <tr>\n",
       "      <th class=\"blank level0\" >&nbsp;</th>\n",
       "      <th id=\"T_0c223_level0_col0\" class=\"col_heading level0 col0\" >DAILY_YIELD</th>\n",
       "      <th id=\"T_0c223_level0_col1\" class=\"col_heading level0 col1\" >TOTAL_YIELD</th>\n",
       "      <th id=\"T_0c223_level0_col2\" class=\"col_heading level0 col2\" >AMBIENT_TEMPERATURE</th>\n",
       "      <th id=\"T_0c223_level0_col3\" class=\"col_heading level0 col3\" >IRRADIATION</th>\n",
       "    </tr>\n",
       "  </thead>\n",
       "  <tbody>\n",
       "    <tr>\n",
       "      <th id=\"T_0c223_level0_row0\" class=\"row_heading level0 row0\" >DAILY_YIELD</th>\n",
       "      <td id=\"T_0c223_row0_col0\" class=\"data row0 col0\" >1.000000</td>\n",
       "      <td id=\"T_0c223_row0_col1\" class=\"data row0 col1\" >0.007277</td>\n",
       "      <td id=\"T_0c223_row0_col2\" class=\"data row0 col2\" >0.489709</td>\n",
       "      <td id=\"T_0c223_row0_col3\" class=\"data row0 col3\" >0.071937</td>\n",
       "    </tr>\n",
       "    <tr>\n",
       "      <th id=\"T_0c223_level0_row1\" class=\"row_heading level0 row1\" >TOTAL_YIELD</th>\n",
       "      <td id=\"T_0c223_row1_col0\" class=\"data row1 col0\" >0.007277</td>\n",
       "      <td id=\"T_0c223_row1_col1\" class=\"data row1 col1\" >1.000000</td>\n",
       "      <td id=\"T_0c223_row1_col2\" class=\"data row1 col2\" >-0.036532</td>\n",
       "      <td id=\"T_0c223_row1_col3\" class=\"data row1 col3\" >-0.004981</td>\n",
       "    </tr>\n",
       "    <tr>\n",
       "      <th id=\"T_0c223_level0_row2\" class=\"row_heading level0 row2\" >AMBIENT_TEMPERATURE</th>\n",
       "      <td id=\"T_0c223_row2_col0\" class=\"data row2 col0\" >0.489709</td>\n",
       "      <td id=\"T_0c223_row2_col1\" class=\"data row2 col1\" >-0.036532</td>\n",
       "      <td id=\"T_0c223_row2_col2\" class=\"data row2 col2\" >1.000000</td>\n",
       "      <td id=\"T_0c223_row2_col3\" class=\"data row2 col3\" >0.702218</td>\n",
       "    </tr>\n",
       "    <tr>\n",
       "      <th id=\"T_0c223_level0_row3\" class=\"row_heading level0 row3\" >IRRADIATION</th>\n",
       "      <td id=\"T_0c223_row3_col0\" class=\"data row3 col0\" >0.071937</td>\n",
       "      <td id=\"T_0c223_row3_col1\" class=\"data row3 col1\" >-0.004981</td>\n",
       "      <td id=\"T_0c223_row3_col2\" class=\"data row3 col2\" >0.702218</td>\n",
       "      <td id=\"T_0c223_row3_col3\" class=\"data row3 col3\" >1.000000</td>\n",
       "    </tr>\n",
       "  </tbody>\n",
       "</table>\n"
      ],
      "text/plain": [
       "<pandas.io.formats.style.Styler at 0x249e4ac2560>"
      ]
     },
     "execution_count": 5,
     "metadata": {},
     "output_type": "execute_result"
    }
   ],
   "source": [
    "# correlation matrix of the DataFrame X using the .corr() method\n",
    "\n",
    "corr = X.corr()\n",
    "corr.style.background_gradient(cmap='coolwarm')"
   ]
  },
  {
   "cell_type": "code",
   "execution_count": 6,
   "id": "c59e4755",
   "metadata": {},
   "outputs": [],
   "source": [
    "# split dataset into training and testing subsets\n",
    "from sklearn.model_selection import train_test_split\n",
    "\n",
    "X_train, X_test, y_train, y_test = train_test_split(X, y, test_size=.2, random_state=42)"
   ]
  },
  {
   "cell_type": "markdown",
   "id": "3a957268",
   "metadata": {},
   "source": [
    "## Linear Regression"
   ]
  },
  {
   "cell_type": "code",
   "execution_count": 7,
   "id": "1ea88c8e",
   "metadata": {},
   "outputs": [
    {
     "data": {
      "text/html": [
       "<style>#sk-container-id-1 {color: black;background-color: white;}#sk-container-id-1 pre{padding: 0;}#sk-container-id-1 div.sk-toggleable {background-color: white;}#sk-container-id-1 label.sk-toggleable__label {cursor: pointer;display: block;width: 100%;margin-bottom: 0;padding: 0.3em;box-sizing: border-box;text-align: center;}#sk-container-id-1 label.sk-toggleable__label-arrow:before {content: \"▸\";float: left;margin-right: 0.25em;color: #696969;}#sk-container-id-1 label.sk-toggleable__label-arrow:hover:before {color: black;}#sk-container-id-1 div.sk-estimator:hover label.sk-toggleable__label-arrow:before {color: black;}#sk-container-id-1 div.sk-toggleable__content {max-height: 0;max-width: 0;overflow: hidden;text-align: left;background-color: #f0f8ff;}#sk-container-id-1 div.sk-toggleable__content pre {margin: 0.2em;color: black;border-radius: 0.25em;background-color: #f0f8ff;}#sk-container-id-1 input.sk-toggleable__control:checked~div.sk-toggleable__content {max-height: 200px;max-width: 100%;overflow: auto;}#sk-container-id-1 input.sk-toggleable__control:checked~label.sk-toggleable__label-arrow:before {content: \"▾\";}#sk-container-id-1 div.sk-estimator input.sk-toggleable__control:checked~label.sk-toggleable__label {background-color: #d4ebff;}#sk-container-id-1 div.sk-label input.sk-toggleable__control:checked~label.sk-toggleable__label {background-color: #d4ebff;}#sk-container-id-1 input.sk-hidden--visually {border: 0;clip: rect(1px 1px 1px 1px);clip: rect(1px, 1px, 1px, 1px);height: 1px;margin: -1px;overflow: hidden;padding: 0;position: absolute;width: 1px;}#sk-container-id-1 div.sk-estimator {font-family: monospace;background-color: #f0f8ff;border: 1px dotted black;border-radius: 0.25em;box-sizing: border-box;margin-bottom: 0.5em;}#sk-container-id-1 div.sk-estimator:hover {background-color: #d4ebff;}#sk-container-id-1 div.sk-parallel-item::after {content: \"\";width: 100%;border-bottom: 1px solid gray;flex-grow: 1;}#sk-container-id-1 div.sk-label:hover label.sk-toggleable__label {background-color: #d4ebff;}#sk-container-id-1 div.sk-serial::before {content: \"\";position: absolute;border-left: 1px solid gray;box-sizing: border-box;top: 0;bottom: 0;left: 50%;z-index: 0;}#sk-container-id-1 div.sk-serial {display: flex;flex-direction: column;align-items: center;background-color: white;padding-right: 0.2em;padding-left: 0.2em;position: relative;}#sk-container-id-1 div.sk-item {position: relative;z-index: 1;}#sk-container-id-1 div.sk-parallel {display: flex;align-items: stretch;justify-content: center;background-color: white;position: relative;}#sk-container-id-1 div.sk-item::before, #sk-container-id-1 div.sk-parallel-item::before {content: \"\";position: absolute;border-left: 1px solid gray;box-sizing: border-box;top: 0;bottom: 0;left: 50%;z-index: -1;}#sk-container-id-1 div.sk-parallel-item {display: flex;flex-direction: column;z-index: 1;position: relative;background-color: white;}#sk-container-id-1 div.sk-parallel-item:first-child::after {align-self: flex-end;width: 50%;}#sk-container-id-1 div.sk-parallel-item:last-child::after {align-self: flex-start;width: 50%;}#sk-container-id-1 div.sk-parallel-item:only-child::after {width: 0;}#sk-container-id-1 div.sk-dashed-wrapped {border: 1px dashed gray;margin: 0 0.4em 0.5em 0.4em;box-sizing: border-box;padding-bottom: 0.4em;background-color: white;}#sk-container-id-1 div.sk-label label {font-family: monospace;font-weight: bold;display: inline-block;line-height: 1.2em;}#sk-container-id-1 div.sk-label-container {text-align: center;}#sk-container-id-1 div.sk-container {/* jupyter's `normalize.less` sets `[hidden] { display: none; }` but bootstrap.min.css set `[hidden] { display: none !important; }` so we also need the `!important` here to be able to override the default hidden behavior on the sphinx rendered scikit-learn.org. See: https://github.com/scikit-learn/scikit-learn/issues/21755 */display: inline-block !important;position: relative;}#sk-container-id-1 div.sk-text-repr-fallback {display: none;}</style><div id=\"sk-container-id-1\" class=\"sk-top-container\"><div class=\"sk-text-repr-fallback\"><pre>LinearRegression()</pre><b>In a Jupyter environment, please rerun this cell to show the HTML representation or trust the notebook. <br />On GitHub, the HTML representation is unable to render, please try loading this page with nbviewer.org.</b></div><div class=\"sk-container\" hidden><div class=\"sk-item\"><div class=\"sk-estimator sk-toggleable\"><input class=\"sk-toggleable__control sk-hidden--visually\" id=\"sk-estimator-id-1\" type=\"checkbox\" checked><label for=\"sk-estimator-id-1\" class=\"sk-toggleable__label sk-toggleable__label-arrow\">LinearRegression</label><div class=\"sk-toggleable__content\"><pre>LinearRegression()</pre></div></div></div></div></div>"
      ],
      "text/plain": [
       "LinearRegression()"
      ]
     },
     "execution_count": 7,
     "metadata": {},
     "output_type": "execute_result"
    }
   ],
   "source": [
    "from sklearn.linear_model import LinearRegression\n",
    "\n",
    "lr_model = LinearRegression()\n",
    "lr_model.fit(X_train, y_train)\n"
   ]
  },
  {
   "cell_type": "code",
   "execution_count": 8,
   "id": "ec8fee88",
   "metadata": {},
   "outputs": [
    {
     "name": "stdout",
     "output_type": "stream",
     "text": [
      "R2 Score :  98.33 %\n"
     ]
    }
   ],
   "source": [
    "from sklearn.linear_model import LinearRegression\n",
    "from sklearn.metrics import r2_score\n",
    "\n",
    "lr = LinearRegression()\n",
    "lr.fit(X_train,y_train)\n",
    "y_pred_lr = lr.predict(X_test)\n",
    "R2_Score_lr = round(r2_score(y_pred_lr,y_test) * 100, 2)\n",
    "\n",
    "print(\"R2 Score : \",R2_Score_lr,\"%\")"
   ]
  },
  {
   "cell_type": "code",
   "execution_count": 9,
   "id": "90d0e7d8",
   "metadata": {},
   "outputs": [
    {
     "name": "stdout",
     "output_type": "stream",
     "text": [
      "Mean Squared Error (MSE): 2631.7601\n"
     ]
    }
   ],
   "source": [
    "from sklearn.metrics import mean_squared_error\n",
    "\n",
    "y_pred = lr_model.predict(X_test)\n",
    "mse = mean_squared_error(y_test, y_pred)\n",
    "print(f\"Mean Squared Error (MSE): {mse:.4f}\")"
   ]
  },
  {
   "cell_type": "code",
   "execution_count": 10,
   "id": "c6ef4471",
   "metadata": {},
   "outputs": [
    {
     "name": "stdout",
     "output_type": "stream",
     "text": [
      "Root Mean Squared Error (RMSE): 51.3007\n"
     ]
    }
   ],
   "source": [
    "import numpy as np\n",
    "\n",
    "rmse = np.sqrt(mse)\n",
    "print(f\"Root Mean Squared Error (RMSE): {rmse:.4f}\")"
   ]
  },
  {
   "cell_type": "code",
   "execution_count": 11,
   "id": "1ae75699",
   "metadata": {},
   "outputs": [
    {
     "name": "stdout",
     "output_type": "stream",
     "text": [
      "Mean Absolute Error (MAE): 26.0401\n"
     ]
    }
   ],
   "source": [
    "from sklearn.metrics import mean_absolute_error\n",
    "\n",
    "mae = mean_absolute_error(y_test, y_pred)\n",
    "print(f\"Mean Absolute Error (MAE): {mae:.4f}\")"
   ]
  },
  {
   "cell_type": "code",
   "execution_count": 12,
   "id": "3cf0f193",
   "metadata": {},
   "outputs": [
    {
     "data": {
      "image/png": "[encoded data removed]",
      "text/plain": [
       "<Figure size 640x480 with 1 Axes>"
      ]
     },
     "metadata": {},
     "output_type": "display_data"
    }
   ],
   "source": [
    "residuals = y_test - y_pred\n",
    "\n",
    "# Plotting residuals\n",
    "import matplotlib.pyplot as plt\n",
    "\n",
    "plt.scatter(y_pred, residuals)\n",
    "plt.xlabel('Predicted values')\n",
    "plt.ylabel('Residuals')\n",
    "plt.title('Residual Analysis')\n",
    "plt.show()"
   ]
  },
  {
   "cell_type": "markdown",
   "id": "79e9f1ac",
   "metadata": {},
   "source": [
    "## KNN"
   ]
  },
  {
   "cell_type": "code",
   "execution_count": 13,
   "id": "95f4ae59",
   "metadata": {
    "scrolled": true
   },
   "outputs": [
    {
     "name": "stdout",
     "output_type": "stream",
     "text": [
      "Best n_neighbor at 2 with 88.3269 %\n"
     ]
    }
   ],
   "source": [
    "from sklearn import neighbors\n",
    "\n",
    "score_list = []\n",
    "n_neighbors_list = []\n",
    "\n",
    "# for loop to find best fitting n_neighbor value\n",
    "for i in range(1, 21):\n",
    "    knn = neighbors.KNeighborsRegressor(n_neighbors=i)\n",
    "    knn.fit(X_train, y_train)\n",
    "\n",
    "    knn_score = knn.score(X_test, y_test)\n",
    "\n",
    "    score_list.append(knn_score)\n",
    "    n_neighbors_list.append(i)\n",
    "\n",
    "best_n_neighbor = n_neighbors_list[score_list.index(max(score_list))]\n",
    "print(f\"Best n_neighbor at {best_n_neighbor} with {max(score_list)*100:.4f} %\")"
   ]
  },
  {
   "cell_type": "code",
   "execution_count": 14,
   "id": "6768a058",
   "metadata": {},
   "outputs": [
    {
     "name": "stdout",
     "output_type": "stream",
     "text": [
      "Mean Squared Error (MSE): 18789.3651\n"
     ]
    }
   ],
   "source": [
    "from sklearn.metrics import mean_squared_error\n",
    "\n",
    "knn = neighbors.KNeighborsRegressor(n_neighbors=best_n_neighbor)\n",
    "knn.fit(X_train, y_train)\n",
    "y_pred = knn.predict(X_test)\n",
    "\n",
    "mse = mean_squared_error(y_test, y_pred)\n",
    "print(f\"Mean Squared Error (MSE): {mse:.4f}\")"
   ]
  },
  {
   "cell_type": "code",
   "execution_count": 15,
   "id": "6d10a470",
   "metadata": {},
   "outputs": [
    {
     "name": "stdout",
     "output_type": "stream",
     "text": [
      "Root Mean Squared Error (RMSE): 137.0743\n"
     ]
    }
   ],
   "source": [
    "import numpy as np\n",
    "\n",
    "rmse = np.sqrt(mse)\n",
    "print(f\"Root Mean Squared Error (RMSE): {rmse:.4f}\")"
   ]
  },
  {
   "cell_type": "code",
   "execution_count": 16,
   "id": "a0cee009",
   "metadata": {},
   "outputs": [
    {
     "name": "stdout",
     "output_type": "stream",
     "text": [
      "Mean Absolute Error (MAE): 64.1076\n"
     ]
    }
   ],
   "source": [
    "from sklearn.metrics import mean_absolute_error\n",
    "\n",
    "mae = mean_absolute_error(y_test, y_pred)\n",
    "print(f\"Mean Absolute Error (MAE): {mae:.4f}\")"
   ]
  },
  {
   "cell_type": "code",
   "execution_count": 17,
   "id": "261f64e4",
   "metadata": {},
   "outputs": [
    {
     "name": "stdout",
     "output_type": "stream",
     "text": [
      "R-squared: 0.8833\n"
     ]
    }
   ],
   "source": [
    "r2 = knn.score(X_test, y_test)\n",
    "print(f\"R-squared: {r2:.4f}\")"
   ]
  },
  {
   "cell_type": "code",
   "execution_count": 18,
   "id": "c9b3898b",
   "metadata": {},
   "outputs": [
    {
     "name": "stdout",
     "output_type": "stream",
     "text": [
      "Explained Variance Score: 0.8844\n"
     ]
    }
   ],
   "source": [
    "from sklearn.metrics import explained_variance_score\n",
    "\n",
    "explained_variance = explained_variance_score(y_test, y_pred)\n",
    "print(f\"Explained Variance Score: {explained_variance:.4f}\")"
   ]
  },
  {
   "cell_type": "markdown",
   "id": "02f2e3bb",
   "metadata": {},
   "source": [
    "## Decision Tree"
   ]
  },
  {
   "cell_type": "code",
   "execution_count": 19,
   "id": "5c7d5c01",
   "metadata": {},
   "outputs": [
    {
     "data": {
      "text/html": [
       "<style>#sk-container-id-2 {color: black;background-color: white;}#sk-container-id-2 pre{padding: 0;}#sk-container-id-2 div.sk-toggleable {background-color: white;}#sk-container-id-2 label.sk-toggleable__label {cursor: pointer;display: block;width: 100%;margin-bottom: 0;padding: 0.3em;box-sizing: border-box;text-align: center;}#sk-container-id-2 label.sk-toggleable__label-arrow:before {content: \"▸\";float: left;margin-right: 0.25em;color: #696969;}#sk-container-id-2 label.sk-toggleable__label-arrow:hover:before {color: black;}#sk-container-id-2 div.sk-estimator:hover label.sk-toggleable__label-arrow:before {color: black;}#sk-container-id-2 div.sk-toggleable__content {max-height: 0;max-width: 0;overflow: hidden;text-align: left;background-color: #f0f8ff;}#sk-container-id-2 div.sk-toggleable__content pre {margin: 0.2em;color: black;border-radius: 0.25em;background-color: #f0f8ff;}#sk-container-id-2 input.sk-toggleable__control:checked~div.sk-toggleable__content {max-height: 200px;max-width: 100%;overflow: auto;}#sk-container-id-2 input.sk-toggleable__control:checked~label.sk-toggleable__label-arrow:before {content: \"▾\";}#sk-container-id-2 div.sk-estimator input.sk-toggleable__control:checked~label.sk-toggleable__label {background-color: #d4ebff;}#sk-container-id-2 div.sk-label input.sk-toggleable__control:checked~label.sk-toggleable__label {background-color: #d4ebff;}#sk-container-id-2 input.sk-hidden--visually {border: 0;clip: rect(1px 1px 1px 1px);clip: rect(1px, 1px, 1px, 1px);height: 1px;margin: -1px;overflow: hidden;padding: 0;position: absolute;width: 1px;}#sk-container-id-2 div.sk-estimator {font-family: monospace;background-color: #f0f8ff;border: 1px dotted black;border-radius: 0.25em;box-sizing: border-box;margin-bottom: 0.5em;}#sk-container-id-2 div.sk-estimator:hover {background-color: #d4ebff;}#sk-container-id-2 div.sk-parallel-item::after {content: \"\";width: 100%;border-bottom: 1px solid gray;flex-grow: 1;}#sk-container-id-2 div.sk-label:hover label.sk-toggleable__label {background-color: #d4ebff;}#sk-container-id-2 div.sk-serial::before {content: \"\";position: absolute;border-left: 1px solid gray;box-sizing: border-box;top: 0;bottom: 0;left: 50%;z-index: 0;}#sk-container-id-2 div.sk-serial {display: flex;flex-direction: column;align-items: center;background-color: white;padding-right: 0.2em;padding-left: 0.2em;position: relative;}#sk-container-id-2 div.sk-item {position: relative;z-index: 1;}#sk-container-id-2 div.sk-parallel {display: flex;align-items: stretch;justify-content: center;background-color: white;position: relative;}#sk-container-id-2 div.sk-item::before, #sk-container-id-2 div.sk-parallel-item::before {content: \"\";position: absolute;border-left: 1px solid gray;box-sizing: border-box;top: 0;bottom: 0;left: 50%;z-index: -1;}#sk-container-id-2 div.sk-parallel-item {display: flex;flex-direction: column;z-index: 1;position: relative;background-color: white;}#sk-container-id-2 div.sk-parallel-item:first-child::after {align-self: flex-end;width: 50%;}#sk-container-id-2 div.sk-parallel-item:last-child::after {align-self: flex-start;width: 50%;}#sk-container-id-2 div.sk-parallel-item:only-child::after {width: 0;}#sk-container-id-2 div.sk-dashed-wrapped {border: 1px dashed gray;margin: 0 0.4em 0.5em 0.4em;box-sizing: border-box;padding-bottom: 0.4em;background-color: white;}#sk-container-id-2 div.sk-label label {font-family: monospace;font-weight: bold;display: inline-block;line-height: 1.2em;}#sk-container-id-2 div.sk-label-container {text-align: center;}#sk-container-id-2 div.sk-container {/* jupyter's `normalize.less` sets `[hidden] { display: none; }` but bootstrap.min.css set `[hidden] { display: none !important; }` so we also need the `!important` here to be able to override the default hidden behavior on the sphinx rendered scikit-learn.org. See: https://github.com/scikit-learn/scikit-learn/issues/21755 */display: inline-block !important;position: relative;}#sk-container-id-2 div.sk-text-repr-fallback {display: none;}</style><div id=\"sk-container-id-2\" class=\"sk-top-container\"><div class=\"sk-text-repr-fallback\"><pre>DecisionTreeRegressor()</pre><b>In a Jupyter environment, please rerun this cell to show the HTML representation or trust the notebook. <br />On GitHub, the HTML representation is unable to render, please try loading this page with nbviewer.org.</b></div><div class=\"sk-container\" hidden><div class=\"sk-item\"><div class=\"sk-estimator sk-toggleable\"><input class=\"sk-toggleable__control sk-hidden--visually\" id=\"sk-estimator-id-2\" type=\"checkbox\" checked><label for=\"sk-estimator-id-2\" class=\"sk-toggleable__label sk-toggleable__label-arrow\">DecisionTreeRegressor</label><div class=\"sk-toggleable__content\"><pre>DecisionTreeRegressor()</pre></div></div></div></div></div>"
      ],
      "text/plain": [
       "DecisionTreeRegressor()"
      ]
     },
     "execution_count": 19,
     "metadata": {},
     "output_type": "execute_result"
    }
   ],
   "source": [
    "from sklearn.tree import DecisionTreeRegressor\n",
    "dtr = DecisionTreeRegressor()\n",
    "dtr.fit(X_train,y_train)"
   ]
  },
  {
   "cell_type": "code",
   "execution_count": 20,
   "id": "5b820960",
   "metadata": {},
   "outputs": [
    {
     "name": "stdout",
     "output_type": "stream",
     "text": [
      "Score is 98.3274 %\n"
     ]
    }
   ],
   "source": [
    "from sklearn.tree import DecisionTreeRegressor\n",
    "\n",
    "dtr = DecisionTreeRegressor()\n",
    "dtr.fit(X_train,y_train)\n",
    "\n",
    "dtr_score = dtr.score(X_test, y_test)\n",
    "print(f\"Score is {dtr_score*100:.4f} %\")"
   ]
  },
  {
   "cell_type": "code",
   "execution_count": 21,
   "id": "08dc7f36",
   "metadata": {},
   "outputs": [
    {
     "name": "stdout",
     "output_type": "stream",
     "text": [
      "Mean Squared Error (MSE): 2692.3505\n"
     ]
    }
   ],
   "source": [
    "from sklearn.metrics import mean_squared_error\n",
    "\n",
    "y_pred = dtr.predict(X_test)\n",
    "mse = mean_squared_error(y_test, y_pred)\n",
    "print(f\"Mean Squared Error (MSE): {mse:.4f}\")\n"
   ]
  },
  {
   "cell_type": "code",
   "execution_count": 22,
   "id": "2f51e412",
   "metadata": {},
   "outputs": [
    {
     "name": "stdout",
     "output_type": "stream",
     "text": [
      "Root Mean Squared Error (RMSE): 51.8879\n"
     ]
    }
   ],
   "source": [
    "import numpy as np\n",
    "\n",
    "rmse = np.sqrt(mse)\n",
    "print(f\"Root Mean Squared Error (RMSE): {rmse:.4f}\")\n"
   ]
  },
  {
   "cell_type": "code",
   "execution_count": 23,
   "id": "0c490803",
   "metadata": {},
   "outputs": [
    {
     "name": "stdout",
     "output_type": "stream",
     "text": [
      "Mean Absolute Error (MAE): 19.1499\n"
     ]
    }
   ],
   "source": [
    "from sklearn.metrics import mean_absolute_error\n",
    "\n",
    "mae = mean_absolute_error(y_test, y_pred)\n",
    "print(f\"Mean Absolute Error (MAE): {mae:.4f}\")\n"
   ]
  },
  {
   "cell_type": "code",
   "execution_count": 24,
   "id": "8d8d1430",
   "metadata": {},
   "outputs": [
    {
     "name": "stdout",
     "output_type": "stream",
     "text": [
      "R-squared: 0.9833\n"
     ]
    }
   ],
   "source": [
    "r2 = dtr.score(X_test, y_test)\n",
    "print(f\"R-squared: {r2:.4f}\")\n"
   ]
  },
  {
   "cell_type": "code",
   "execution_count": 25,
   "id": "af094d36",
   "metadata": {},
   "outputs": [
    {
     "name": "stdout",
     "output_type": "stream",
     "text": [
      "Explained Variance Score: 0.9833\n"
     ]
    }
   ],
   "source": [
    "from sklearn.metrics import explained_variance_score\n",
    "\n",
    "explained_variance = explained_variance_score(y_test, y_pred)\n",
    "print(f\"Explained Variance Score: {explained_variance:.4f}\")\n"
   ]
  },
  {
   "cell_type": "markdown",
   "id": "19ccd8b8",
   "metadata": {},
   "source": [
    "# Random Forest "
   ]
  },
  {
   "cell_type": "code",
   "execution_count": 26,
   "id": "ead4d150",
   "metadata": {},
   "outputs": [
    {
     "data": {
      "text/html": [
       "<style>#sk-container-id-3 {color: black;background-color: white;}#sk-container-id-3 pre{padding: 0;}#sk-container-id-3 div.sk-toggleable {background-color: white;}#sk-container-id-3 label.sk-toggleable__label {cursor: pointer;display: block;width: 100%;margin-bottom: 0;padding: 0.3em;box-sizing: border-box;text-align: center;}#sk-container-id-3 label.sk-toggleable__label-arrow:before {content: \"▸\";float: left;margin-right: 0.25em;color: #696969;}#sk-container-id-3 label.sk-toggleable__label-arrow:hover:before {color: black;}#sk-container-id-3 div.sk-estimator:hover label.sk-toggleable__label-arrow:before {color: black;}#sk-container-id-3 div.sk-toggleable__content {max-height: 0;max-width: 0;overflow: hidden;text-align: left;background-color: #f0f8ff;}#sk-container-id-3 div.sk-toggleable__content pre {margin: 0.2em;color: black;border-radius: 0.25em;background-color: #f0f8ff;}#sk-container-id-3 input.sk-toggleable__control:checked~div.sk-toggleable__content {max-height: 200px;max-width: 100%;overflow: auto;}#sk-container-id-3 input.sk-toggleable__control:checked~label.sk-toggleable__label-arrow:before {content: \"▾\";}#sk-container-id-3 div.sk-estimator input.sk-toggleable__control:checked~label.sk-toggleable__label {background-color: #d4ebff;}#sk-container-id-3 div.sk-label input.sk-toggleable__control:checked~label.sk-toggleable__label {background-color: #d4ebff;}#sk-container-id-3 input.sk-hidden--visually {border: 0;clip: rect(1px 1px 1px 1px);clip: rect(1px, 1px, 1px, 1px);height: 1px;margin: -1px;overflow: hidden;padding: 0;position: absolute;width: 1px;}#sk-container-id-3 div.sk-estimator {font-family: monospace;background-color: #f0f8ff;border: 1px dotted black;border-radius: 0.25em;box-sizing: border-box;margin-bottom: 0.5em;}#sk-container-id-3 div.sk-estimator:hover {background-color: #d4ebff;}#sk-container-id-3 div.sk-parallel-item::after {content: \"\";width: 100%;border-bottom: 1px solid gray;flex-grow: 1;}#sk-container-id-3 div.sk-label:hover label.sk-toggleable__label {background-color: #d4ebff;}#sk-container-id-3 div.sk-serial::before {content: \"\";position: absolute;border-left: 1px solid gray;box-sizing: border-box;top: 0;bottom: 0;left: 50%;z-index: 0;}#sk-container-id-3 div.sk-serial {display: flex;flex-direction: column;align-items: center;background-color: white;padding-right: 0.2em;padding-left: 0.2em;position: relative;}#sk-container-id-3 div.sk-item {position: relative;z-index: 1;}#sk-container-id-3 div.sk-parallel {display: flex;align-items: stretch;justify-content: center;background-color: white;position: relative;}#sk-container-id-3 div.sk-item::before, #sk-container-id-3 div.sk-parallel-item::before {content: \"\";position: absolute;border-left: 1px solid gray;box-sizing: border-box;top: 0;bottom: 0;left: 50%;z-index: -1;}#sk-container-id-3 div.sk-parallel-item {display: flex;flex-direction: column;z-index: 1;position: relative;background-color: white;}#sk-container-id-3 div.sk-parallel-item:first-child::after {align-self: flex-end;width: 50%;}#sk-container-id-3 div.sk-parallel-item:last-child::after {align-self: flex-start;width: 50%;}#sk-container-id-3 div.sk-parallel-item:only-child::after {width: 0;}#sk-container-id-3 div.sk-dashed-wrapped {border: 1px dashed gray;margin: 0 0.4em 0.5em 0.4em;box-sizing: border-box;padding-bottom: 0.4em;background-color: white;}#sk-container-id-3 div.sk-label label {font-family: monospace;font-weight: bold;display: inline-block;line-height: 1.2em;}#sk-container-id-3 div.sk-label-container {text-align: center;}#sk-container-id-3 div.sk-container {/* jupyter's `normalize.less` sets `[hidden] { display: none; }` but bootstrap.min.css set `[hidden] { display: none !important; }` so we also need the `!important` here to be able to override the default hidden behavior on the sphinx rendered scikit-learn.org. See: https://github.com/scikit-learn/scikit-learn/issues/21755 */display: inline-block !important;position: relative;}#sk-container-id-3 div.sk-text-repr-fallback {display: none;}</style><div id=\"sk-container-id-3\" class=\"sk-top-container\"><div class=\"sk-text-repr-fallback\"><pre>RandomForestRegressor()</pre><b>In a Jupyter environment, please rerun this cell to show the HTML representation or trust the notebook. <br />On GitHub, the HTML representation is unable to render, please try loading this page with nbviewer.org.</b></div><div class=\"sk-container\" hidden><div class=\"sk-item\"><div class=\"sk-estimator sk-toggleable\"><input class=\"sk-toggleable__control sk-hidden--visually\" id=\"sk-estimator-id-3\" type=\"checkbox\" checked><label for=\"sk-estimator-id-3\" class=\"sk-toggleable__label sk-toggleable__label-arrow\">RandomForestRegressor</label><div class=\"sk-toggleable__content\"><pre>RandomForestRegressor()</pre></div></div></div></div></div>"
      ],
      "text/plain": [
       "RandomForestRegressor()"
      ]
     },
     "execution_count": 26,
     "metadata": {},
     "output_type": "execute_result"
    }
   ],
   "source": [
    "from sklearn.ensemble import RandomForestRegressor\n",
    "rfr = RandomForestRegressor()\n",
    "rfr.fit(X_train,y_train)"
   ]
  },
  {
   "cell_type": "code",
   "execution_count": 27,
   "id": "3769ac06",
   "metadata": {},
   "outputs": [
    {
     "name": "stdout",
     "output_type": "stream",
     "text": [
      "Score is 99.0545 %\n"
     ]
    }
   ],
   "source": [
    "from sklearn.ensemble import RandomForestRegressor\n",
    "\n",
    "rfr = RandomForestRegressor()\n",
    "rfr.fit(X_train,y_train)\n",
    "\n",
    "rfr_score = rfr.score(X_test, y_test)\n",
    "print(f\"Score is {rfr_score*100:.4f} %\")"
   ]
  },
  {
   "cell_type": "code",
   "execution_count": 28,
   "id": "76b7bc5b",
   "metadata": {},
   "outputs": [
    {
     "name": "stdout",
     "output_type": "stream",
     "text": [
      "Mean Squared Error (MSE): 1521.9635\n"
     ]
    }
   ],
   "source": [
    "from sklearn.metrics import mean_squared_error\n",
    "\n",
    "y_pred = rfr.predict(X_test)\n",
    "mse = mean_squared_error(y_test, y_pred)\n",
    "print(f\"Mean Squared Error (MSE): {mse:.4f}\")\n"
   ]
  },
  {
   "cell_type": "code",
   "execution_count": 29,
   "id": "1554c8c9",
   "metadata": {},
   "outputs": [
    {
     "name": "stdout",
     "output_type": "stream",
     "text": [
      "Root Mean Squared Error (RMSE): 39.0124\n"
     ]
    }
   ],
   "source": [
    "import numpy as np\n",
    "\n",
    "rmse = np.sqrt(mse)\n",
    "print(f\"Root Mean Squared Error (RMSE): {rmse:.4f}\")\n"
   ]
  },
  {
   "cell_type": "code",
   "execution_count": 30,
   "id": "01fede02",
   "metadata": {},
   "outputs": [
    {
     "name": "stdout",
     "output_type": "stream",
     "text": [
      "Mean Absolute Error (MAE): 15.0234\n"
     ]
    }
   ],
   "source": [
    "from sklearn.metrics import mean_absolute_error\n",
    "\n",
    "mae = mean_absolute_error(y_test, y_pred)\n",
    "print(f\"Mean Absolute Error (MAE): {mae:.4f}\")\n"
   ]
  },
  {
   "cell_type": "code",
   "execution_count": 31,
   "id": "42ccdc78",
   "metadata": {},
   "outputs": [
    {
     "name": "stdout",
     "output_type": "stream",
     "text": [
      "R-squared: 0.9905\n"
     ]
    }
   ],
   "source": [
    "r2 = rfr.score(X_test, y_test)\n",
    "print(f\"R-squared: {r2:.4f}\")\n"
   ]
  },
  {
   "cell_type": "code",
   "execution_count": 32,
   "id": "f07a41a3",
   "metadata": {},
   "outputs": [
    {
     "name": "stdout",
     "output_type": "stream",
     "text": [
      "Explained Variance Score: 0.9905\n"
     ]
    }
   ],
   "source": [
    "from sklearn.metrics import explained_variance_score\n",
    "\n",
    "explained_variance = explained_variance_score(y_test, y_pred)\n",
    "print(f\"Explained Variance Score: {explained_variance:.4f}\")\n"
   ]
  },
  {
   "cell_type": "markdown",
   "id": "71e2ac4c",
   "metadata": {},
   "source": [
    "#### MSE measures the average squared difference between the predicted and actual values. Lower values indicate better model performance.\n",
    "\n",
    "#### RMSE is the square root of MSE and provides a measure of the average magnitude of the errors. Lower values indicate better model performance.\n",
    "\n",
    "#### MAE measures the average absolute difference between the predicted and actual values. Lower values indicate better model performance.\n",
    "\n",
    "#### R-squared measures the proportion of variance in the target variable explained by the model. Higher values indicate better model performance.\n",
    "\n",
    "#### Explained variance score measures the proportion of variance in the target variable that can be explained by the model. Higher values indicate better model performance.\n",
    "\n",
    "\n",
    "# Random Forest is the best model. "
   ]
  },
  {
   "cell_type": "markdown",
   "id": "eeed3abd",
   "metadata": {},
   "source": [
    "# Prediction values of AC power"
   ]
  },
  {
   "cell_type": "markdown",
   "id": "3af207df",
   "metadata": {},
   "source": [
    "#### By printing forecast_prediction, an array or list of the predicted values for AC_POWER corresponding to the test set's input features (X_test) is produced. Each value in forecast_prediction represents the model's prediction for the AC_POWER value based on the given input features."
   ]
  },
  {
   "cell_type": "code",
   "execution_count": 33,
   "id": "4df6bdbc",
   "metadata": {},
   "outputs": [
    {
     "name": "stdout",
     "output_type": "stream",
     "text": [
      "[116.15455357   0.         873.84308929 ... 744.81475    103.73248214\n",
      "   0.        ]\n"
     ]
    }
   ],
   "source": [
    "forecast_prediction = rfr.predict(X_test)\n",
    "print(forecast_prediction)"
   ]
  },
  {
   "cell_type": "code",
   "execution_count": 34,
   "id": "57f8ed73",
   "metadata": {},
   "outputs": [
    {
     "data": {
      "text/html": [
       "<div>\n",
       "<style scoped>\n",
       "    .dataframe tbody tr th:only-of-type {\n",
       "        vertical-align: middle;\n",
       "    }\n",
       "\n",
       "    .dataframe tbody tr th {\n",
       "        vertical-align: top;\n",
       "    }\n",
       "\n",
       "    .dataframe thead th {\n",
       "        text-align: right;\n",
       "    }\n",
       "</style>\n",
       "<table border=\"1\" class=\"dataframe\">\n",
       "  <thead>\n",
       "    <tr style=\"text-align: right;\">\n",
       "      <th></th>\n",
       "      <th>Actual</th>\n",
       "      <th>Predicted</th>\n",
       "    </tr>\n",
       "  </thead>\n",
       "  <tbody>\n",
       "    <tr>\n",
       "      <th>29503</th>\n",
       "      <td>116.4750</td>\n",
       "      <td>116.154554</td>\n",
       "    </tr>\n",
       "    <tr>\n",
       "      <th>45488</th>\n",
       "      <td>0.0000</td>\n",
       "      <td>0.000000</td>\n",
       "    </tr>\n",
       "    <tr>\n",
       "      <th>40219</th>\n",
       "      <td>868.7125</td>\n",
       "      <td>873.843089</td>\n",
       "    </tr>\n",
       "    <tr>\n",
       "      <th>7270</th>\n",
       "      <td>485.1625</td>\n",
       "      <td>484.360304</td>\n",
       "    </tr>\n",
       "    <tr>\n",
       "      <th>15418</th>\n",
       "      <td>0.0000</td>\n",
       "      <td>0.000000</td>\n",
       "    </tr>\n",
       "  </tbody>\n",
       "</table>\n",
       "</div>"
      ],
      "text/plain": [
       "         Actual   Predicted\n",
       "29503  116.4750  116.154554\n",
       "45488    0.0000    0.000000\n",
       "40219  868.7125  873.843089\n",
       "7270   485.1625  484.360304\n",
       "15418    0.0000    0.000000"
      ]
     },
     "execution_count": 34,
     "metadata": {},
     "output_type": "execute_result"
    }
   ],
   "source": [
    "cross_check = pd.DataFrame({'Actual' : y_test , 'Predicted' : forecast_prediction})\n",
    "cross_check.head()"
   ]
  },
  {
   "cell_type": "code",
   "execution_count": 35,
   "id": "a30bf976",
   "metadata": {},
   "outputs": [
    {
     "data": {
      "text/html": [
       "<div>\n",
       "<style scoped>\n",
       "    .dataframe tbody tr th:only-of-type {\n",
       "        vertical-align: middle;\n",
       "    }\n",
       "\n",
       "    .dataframe tbody tr th {\n",
       "        vertical-align: top;\n",
       "    }\n",
       "\n",
       "    .dataframe thead th {\n",
       "        text-align: right;\n",
       "    }\n",
       "</style>\n",
       "<table border=\"1\" class=\"dataframe\">\n",
       "  <thead>\n",
       "    <tr style=\"text-align: right;\">\n",
       "      <th></th>\n",
       "      <th>Actual</th>\n",
       "      <th>Predicted</th>\n",
       "      <th>Error</th>\n",
       "    </tr>\n",
       "  </thead>\n",
       "  <tbody>\n",
       "    <tr>\n",
       "      <th>29503</th>\n",
       "      <td>116.4750</td>\n",
       "      <td>116.154554</td>\n",
       "      <td>0.320446</td>\n",
       "    </tr>\n",
       "    <tr>\n",
       "      <th>45488</th>\n",
       "      <td>0.0000</td>\n",
       "      <td>0.000000</td>\n",
       "      <td>0.000000</td>\n",
       "    </tr>\n",
       "    <tr>\n",
       "      <th>40219</th>\n",
       "      <td>868.7125</td>\n",
       "      <td>873.843089</td>\n",
       "      <td>-5.130589</td>\n",
       "    </tr>\n",
       "    <tr>\n",
       "      <th>7270</th>\n",
       "      <td>485.1625</td>\n",
       "      <td>484.360304</td>\n",
       "      <td>0.802196</td>\n",
       "    </tr>\n",
       "    <tr>\n",
       "      <th>15418</th>\n",
       "      <td>0.0000</td>\n",
       "      <td>0.000000</td>\n",
       "      <td>0.000000</td>\n",
       "    </tr>\n",
       "  </tbody>\n",
       "</table>\n",
       "</div>"
      ],
      "text/plain": [
       "         Actual   Predicted     Error\n",
       "29503  116.4750  116.154554  0.320446\n",
       "45488    0.0000    0.000000  0.000000\n",
       "40219  868.7125  873.843089 -5.130589\n",
       "7270   485.1625  484.360304  0.802196\n",
       "15418    0.0000    0.000000  0.000000"
      ]
     },
     "execution_count": 35,
     "metadata": {},
     "output_type": "execute_result"
    }
   ],
   "source": [
    "cross_check['Error'] = cross_check['Actual'] - cross_check['Predicted']\n",
    "cross_check.head()"
   ]
  },
  {
   "cell_type": "code",
   "execution_count": 36,
   "id": "f01b119f",
   "metadata": {},
   "outputs": [
    {
     "data": {
      "text/html": [
       "<style type=\"text/css\">\n",
       "#T_0619b_row0_col0, #T_0619b_row0_col1, #T_0619b_row1_col0, #T_0619b_row1_col1, #T_0619b_row3_col0, #T_0619b_row3_col1, #T_0619b_row4_col0, #T_0619b_row4_col1, #T_0619b_row5_col0, #T_0619b_row5_col1, #T_0619b_row7_col2, #T_0619b_row8_col0, #T_0619b_row8_col1, #T_0619b_row11_col0, #T_0619b_row11_col1, #T_0619b_row13_col0, #T_0619b_row13_col1, #T_0619b_row14_col0, #T_0619b_row14_col1, #T_0619b_row15_col0, #T_0619b_row15_col1, #T_0619b_row17_col0, #T_0619b_row17_col1, #T_0619b_row19_col0, #T_0619b_row19_col1 {\n",
       "  background-color: #3b4cc0;\n",
       "  color: #f1f1f1;\n",
       "  font-family: Times;\n",
       "  color: LigntGreen;\n",
       "  font-size: 13px;\n",
       "}\n",
       "#T_0619b_row0_col2, #T_0619b_row1_col2, #T_0619b_row3_col2, #T_0619b_row4_col2, #T_0619b_row8_col2, #T_0619b_row11_col2, #T_0619b_row13_col2, #T_0619b_row14_col2, #T_0619b_row15_col2, #T_0619b_row17_col2, #T_0619b_row19_col2 {\n",
       "  background-color: #f7ba9f;\n",
       "  color: #000000;\n",
       "  font-family: Times;\n",
       "  color: LigntGreen;\n",
       "  font-size: 13px;\n",
       "}\n",
       "#T_0619b_row2_col0 {\n",
       "  background-color: #df634e;\n",
       "  color: #f1f1f1;\n",
       "  font-family: Times;\n",
       "  color: LigntGreen;\n",
       "  font-size: 13px;\n",
       "}\n",
       "#T_0619b_row2_col1 {\n",
       "  background-color: #e16751;\n",
       "  color: #f1f1f1;\n",
       "  font-family: Times;\n",
       "  color: LigntGreen;\n",
       "  font-size: 13px;\n",
       "}\n",
       "#T_0619b_row2_col2 {\n",
       "  background-color: #ec8165;\n",
       "  color: #f1f1f1;\n",
       "  font-family: Times;\n",
       "  color: LigntGreen;\n",
       "  font-size: 13px;\n",
       "}\n",
       "#T_0619b_row5_col2 {\n",
       "  background-color: #f7bca1;\n",
       "  color: #000000;\n",
       "  font-family: Times;\n",
       "  color: LigntGreen;\n",
       "  font-size: 13px;\n",
       "}\n",
       "#T_0619b_row6_col0 {\n",
       "  background-color: #be242e;\n",
       "  color: #f1f1f1;\n",
       "  font-family: Times;\n",
       "  color: LigntGreen;\n",
       "  font-size: 13px;\n",
       "}\n",
       "#T_0619b_row6_col1 {\n",
       "  background-color: #c53334;\n",
       "  color: #f1f1f1;\n",
       "  font-family: Times;\n",
       "  color: LigntGreen;\n",
       "  font-size: 13px;\n",
       "}\n",
       "#T_0619b_row6_col2, #T_0619b_row24_col0, #T_0619b_row24_col1 {\n",
       "  background-color: #b40426;\n",
       "  color: #f1f1f1;\n",
       "  font-family: Times;\n",
       "  color: LigntGreen;\n",
       "  font-size: 13px;\n",
       "}\n",
       "#T_0619b_row7_col0 {\n",
       "  background-color: #edd1c2;\n",
       "  color: #000000;\n",
       "  font-family: Times;\n",
       "  color: LigntGreen;\n",
       "  font-size: 13px;\n",
       "}\n",
       "#T_0619b_row7_col1 {\n",
       "  background-color: #f2cbb7;\n",
       "  color: #000000;\n",
       "  font-family: Times;\n",
       "  color: LigntGreen;\n",
       "  font-size: 13px;\n",
       "}\n",
       "#T_0619b_row9_col0 {\n",
       "  background-color: #e9d5cb;\n",
       "  color: #000000;\n",
       "  font-family: Times;\n",
       "  color: LigntGreen;\n",
       "  font-size: 13px;\n",
       "}\n",
       "#T_0619b_row9_col1 {\n",
       "  background-color: #e6d7cf;\n",
       "  color: #000000;\n",
       "  font-family: Times;\n",
       "  color: LigntGreen;\n",
       "  font-size: 13px;\n",
       "}\n",
       "#T_0619b_row9_col2 {\n",
       "  background-color: #de614d;\n",
       "  color: #f1f1f1;\n",
       "  font-family: Times;\n",
       "  color: LigntGreen;\n",
       "  font-size: 13px;\n",
       "}\n",
       "#T_0619b_row10_col0, #T_0619b_row16_col0 {\n",
       "  background-color: #516ddb;\n",
       "  color: #f1f1f1;\n",
       "  font-family: Times;\n",
       "  color: LigntGreen;\n",
       "  font-size: 13px;\n",
       "}\n",
       "#T_0619b_row10_col1, #T_0619b_row16_col1 {\n",
       "  background-color: #536edd;\n",
       "  color: #f1f1f1;\n",
       "  font-family: Times;\n",
       "  color: LigntGreen;\n",
       "  font-size: 13px;\n",
       "}\n",
       "#T_0619b_row10_col2 {\n",
       "  background-color: #f5c1a9;\n",
       "  color: #000000;\n",
       "  font-family: Times;\n",
       "  color: LigntGreen;\n",
       "  font-size: 13px;\n",
       "}\n",
       "#T_0619b_row12_col0 {\n",
       "  background-color: #9fbfff;\n",
       "  color: #000000;\n",
       "  font-family: Times;\n",
       "  color: LigntGreen;\n",
       "  font-size: 13px;\n",
       "}\n",
       "#T_0619b_row12_col1 {\n",
       "  background-color: #9dbdff;\n",
       "  color: #000000;\n",
       "  font-family: Times;\n",
       "  color: LigntGreen;\n",
       "  font-size: 13px;\n",
       "}\n",
       "#T_0619b_row12_col2 {\n",
       "  background-color: #f08b6e;\n",
       "  color: #f1f1f1;\n",
       "  font-family: Times;\n",
       "  color: LigntGreen;\n",
       "  font-size: 13px;\n",
       "}\n",
       "#T_0619b_row16_col2 {\n",
       "  background-color: #e8d6cc;\n",
       "  color: #000000;\n",
       "  font-family: Times;\n",
       "  color: LigntGreen;\n",
       "  font-size: 13px;\n",
       "}\n",
       "#T_0619b_row18_col0, #T_0619b_row18_col1 {\n",
       "  background-color: #a6c4fe;\n",
       "  color: #000000;\n",
       "  font-family: Times;\n",
       "  color: LigntGreen;\n",
       "  font-size: 13px;\n",
       "}\n",
       "#T_0619b_row18_col2 {\n",
       "  background-color: #f5c4ac;\n",
       "  color: #000000;\n",
       "  font-family: Times;\n",
       "  color: LigntGreen;\n",
       "  font-size: 13px;\n",
       "}\n",
       "#T_0619b_row20_col0 {\n",
       "  background-color: #f5a081;\n",
       "  color: #000000;\n",
       "  font-family: Times;\n",
       "  color: LigntGreen;\n",
       "  font-size: 13px;\n",
       "}\n",
       "#T_0619b_row20_col1 {\n",
       "  background-color: #f6a586;\n",
       "  color: #000000;\n",
       "  font-family: Times;\n",
       "  color: LigntGreen;\n",
       "  font-size: 13px;\n",
       "}\n",
       "#T_0619b_row20_col2 {\n",
       "  background-color: #e97a5f;\n",
       "  color: #f1f1f1;\n",
       "  font-family: Times;\n",
       "  color: LigntGreen;\n",
       "  font-size: 13px;\n",
       "}\n",
       "#T_0619b_row21_col0, #T_0619b_row21_col1 {\n",
       "  background-color: #dadce0;\n",
       "  color: #000000;\n",
       "  font-family: Times;\n",
       "  color: LigntGreen;\n",
       "  font-size: 13px;\n",
       "}\n",
       "#T_0619b_row21_col2 {\n",
       "  background-color: #f3c8b2;\n",
       "  color: #000000;\n",
       "  font-family: Times;\n",
       "  color: LigntGreen;\n",
       "  font-size: 13px;\n",
       "}\n",
       "#T_0619b_row22_col0 {\n",
       "  background-color: #86a9fc;\n",
       "  color: #f1f1f1;\n",
       "  font-family: Times;\n",
       "  color: LigntGreen;\n",
       "  font-size: 13px;\n",
       "}\n",
       "#T_0619b_row22_col1 {\n",
       "  background-color: #82a6fb;\n",
       "  color: #f1f1f1;\n",
       "  font-family: Times;\n",
       "  color: LigntGreen;\n",
       "  font-size: 13px;\n",
       "}\n",
       "#T_0619b_row22_col2 {\n",
       "  background-color: #d95847;\n",
       "  color: #f1f1f1;\n",
       "  font-family: Times;\n",
       "  color: LigntGreen;\n",
       "  font-size: 13px;\n",
       "}\n",
       "#T_0619b_row23_col0 {\n",
       "  background-color: #a1c0ff;\n",
       "  color: #000000;\n",
       "  font-family: Times;\n",
       "  color: LigntGreen;\n",
       "  font-size: 13px;\n",
       "}\n",
       "#T_0619b_row23_col1 {\n",
       "  background-color: #a2c1ff;\n",
       "  color: #000000;\n",
       "  font-family: Times;\n",
       "  color: LigntGreen;\n",
       "  font-size: 13px;\n",
       "}\n",
       "#T_0619b_row23_col2 {\n",
       "  background-color: #f0cdbb;\n",
       "  color: #000000;\n",
       "  font-family: Times;\n",
       "  color: LigntGreen;\n",
       "  font-size: 13px;\n",
       "}\n",
       "#T_0619b_row24_col2 {\n",
       "  background-color: #ebd3c6;\n",
       "  color: #000000;\n",
       "  font-family: Times;\n",
       "  color: LigntGreen;\n",
       "  font-size: 13px;\n",
       "}\n",
       "</style>\n",
       "<table id=\"T_0619b\">\n",
       "  <thead>\n",
       "    <tr>\n",
       "      <th class=\"blank level0\" >&nbsp;</th>\n",
       "      <th id=\"T_0619b_level0_col0\" class=\"col_heading level0 col0\" >Actual</th>\n",
       "      <th id=\"T_0619b_level0_col1\" class=\"col_heading level0 col1\" >Predicted</th>\n",
       "      <th id=\"T_0619b_level0_col2\" class=\"col_heading level0 col2\" >Error</th>\n",
       "    </tr>\n",
       "  </thead>\n",
       "  <tbody>\n",
       "    <tr>\n",
       "      <th id=\"T_0619b_level0_row0\" class=\"row_heading level0 row0\" >274</th>\n",
       "      <td id=\"T_0619b_row0_col0\" class=\"data row0 col0\" >0.000000</td>\n",
       "      <td id=\"T_0619b_row0_col1\" class=\"data row0 col1\" >0.000000</td>\n",
       "      <td id=\"T_0619b_row0_col2\" class=\"data row0 col2\" >0.000000</td>\n",
       "    </tr>\n",
       "    <tr>\n",
       "      <th id=\"T_0619b_level0_row1\" class=\"row_heading level0 row1\" >21273</th>\n",
       "      <td id=\"T_0619b_row1_col0\" class=\"data row1 col0\" >0.000000</td>\n",
       "      <td id=\"T_0619b_row1_col1\" class=\"data row1 col1\" >0.000000</td>\n",
       "      <td id=\"T_0619b_row1_col2\" class=\"data row1 col2\" >0.000000</td>\n",
       "    </tr>\n",
       "    <tr>\n",
       "      <th id=\"T_0619b_level0_row2\" class=\"row_heading level0 row2\" >36318</th>\n",
       "      <td id=\"T_0619b_row2_col0\" class=\"data row2 col0\" >964.914286</td>\n",
       "      <td id=\"T_0619b_row2_col1\" class=\"data row2 col1\" >957.421661</td>\n",
       "      <td id=\"T_0619b_row2_col2\" class=\"data row2 col2\" >7.492625</td>\n",
       "    </tr>\n",
       "    <tr>\n",
       "      <th id=\"T_0619b_level0_row3\" class=\"row_heading level0 row3\" >21668</th>\n",
       "      <td id=\"T_0619b_row3_col0\" class=\"data row3 col0\" >0.000000</td>\n",
       "      <td id=\"T_0619b_row3_col1\" class=\"data row3 col1\" >0.000000</td>\n",
       "      <td id=\"T_0619b_row3_col2\" class=\"data row3 col2\" >0.000000</td>\n",
       "    </tr>\n",
       "    <tr>\n",
       "      <th id=\"T_0619b_level0_row4\" class=\"row_heading level0 row4\" >5876</th>\n",
       "      <td id=\"T_0619b_row4_col0\" class=\"data row4 col0\" >0.000000</td>\n",
       "      <td id=\"T_0619b_row4_col1\" class=\"data row4 col1\" >0.000000</td>\n",
       "      <td id=\"T_0619b_row4_col2\" class=\"data row4 col2\" >0.000000</td>\n",
       "    </tr>\n",
       "    <tr>\n",
       "      <th id=\"T_0619b_level0_row5\" class=\"row_heading level0 row5\" >32654</th>\n",
       "      <td id=\"T_0619b_row5_col0\" class=\"data row5 col0\" >2.512500</td>\n",
       "      <td id=\"T_0619b_row5_col1\" class=\"data row5 col1\" >2.650571</td>\n",
       "      <td id=\"T_0619b_row5_col2\" class=\"data row5 col2\" >-0.138071</td>\n",
       "    </tr>\n",
       "    <tr>\n",
       "      <th id=\"T_0619b_level0_row6\" class=\"row_heading level0 row6\" >11032</th>\n",
       "      <td id=\"T_0619b_row6_col0\" class=\"data row6 col0\" >1074.942857</td>\n",
       "      <td id=\"T_0619b_row6_col1\" class=\"data row6 col1\" >1057.762893</td>\n",
       "      <td id=\"T_0619b_row6_col2\" class=\"data row6 col2\" >17.179964</td>\n",
       "    </tr>\n",
       "    <tr>\n",
       "      <th id=\"T_0619b_level0_row7\" class=\"row_heading level0 row7\" >7397</th>\n",
       "      <td id=\"T_0619b_row7_col0\" class=\"data row7 col0\" >634.128571</td>\n",
       "      <td id=\"T_0619b_row7_col1\" class=\"data row7 col1\" >667.007911</td>\n",
       "      <td id=\"T_0619b_row7_col2\" class=\"data row7 col2\" >-32.879339</td>\n",
       "    </tr>\n",
       "    <tr>\n",
       "      <th id=\"T_0619b_level0_row8\" class=\"row_heading level0 row8\" >33275</th>\n",
       "      <td id=\"T_0619b_row8_col0\" class=\"data row8 col0\" >0.000000</td>\n",
       "      <td id=\"T_0619b_row8_col1\" class=\"data row8 col1\" >0.000000</td>\n",
       "      <td id=\"T_0619b_row8_col2\" class=\"data row8 col2\" >0.000000</td>\n",
       "    </tr>\n",
       "    <tr>\n",
       "      <th id=\"T_0619b_level0_row9\" class=\"row_heading level0 row9\" >38089</th>\n",
       "      <td id=\"T_0619b_row9_col0\" class=\"data row9 col0\" >607.325000</td>\n",
       "      <td id=\"T_0619b_row9_col1\" class=\"data row9 col1\" >596.449554</td>\n",
       "      <td id=\"T_0619b_row9_col2\" class=\"data row9 col2\" >10.875446</td>\n",
       "    </tr>\n",
       "    <tr>\n",
       "      <th id=\"T_0619b_level0_row10\" class=\"row_heading level0 row10\" >13726</th>\n",
       "      <td id=\"T_0619b_row10_col0\" class=\"data row10 col0\" >86.600000</td>\n",
       "      <td id=\"T_0619b_row10_col1\" class=\"data row10 col1\" >87.749750</td>\n",
       "      <td id=\"T_0619b_row10_col2\" class=\"data row10 col2\" >-1.149750</td>\n",
       "    </tr>\n",
       "    <tr>\n",
       "      <th id=\"T_0619b_level0_row11\" class=\"row_heading level0 row11\" >21060</th>\n",
       "      <td id=\"T_0619b_row11_col0\" class=\"data row11 col0\" >0.000000</td>\n",
       "      <td id=\"T_0619b_row11_col1\" class=\"data row11 col1\" >0.000000</td>\n",
       "      <td id=\"T_0619b_row11_col2\" class=\"data row11 col2\" >0.000000</td>\n",
       "    </tr>\n",
       "    <tr>\n",
       "      <th id=\"T_0619b_level0_row12\" class=\"row_heading level0 row12\" >12532</th>\n",
       "      <td id=\"T_0619b_row12_col0\" class=\"data row12 col0\" >335.142857</td>\n",
       "      <td id=\"T_0619b_row12_col1\" class=\"data row12 col1\" >328.804679</td>\n",
       "      <td id=\"T_0619b_row12_col2\" class=\"data row12 col2\" >6.338179</td>\n",
       "    </tr>\n",
       "    <tr>\n",
       "      <th id=\"T_0619b_level0_row13\" class=\"row_heading level0 row13\" >4168</th>\n",
       "      <td id=\"T_0619b_row13_col0\" class=\"data row13 col0\" >0.000000</td>\n",
       "      <td id=\"T_0619b_row13_col1\" class=\"data row13 col1\" >0.000000</td>\n",
       "      <td id=\"T_0619b_row13_col2\" class=\"data row13 col2\" >0.000000</td>\n",
       "    </tr>\n",
       "    <tr>\n",
       "      <th id=\"T_0619b_level0_row14\" class=\"row_heading level0 row14\" >39829</th>\n",
       "      <td id=\"T_0619b_row14_col0\" class=\"data row14 col0\" >0.000000</td>\n",
       "      <td id=\"T_0619b_row14_col1\" class=\"data row14 col1\" >0.000000</td>\n",
       "      <td id=\"T_0619b_row14_col2\" class=\"data row14 col2\" >0.000000</td>\n",
       "    </tr>\n",
       "    <tr>\n",
       "      <th id=\"T_0619b_level0_row15\" class=\"row_heading level0 row15\" >41542</th>\n",
       "      <td id=\"T_0619b_row15_col0\" class=\"data row15 col0\" >0.000000</td>\n",
       "      <td id=\"T_0619b_row15_col1\" class=\"data row15 col1\" >0.000000</td>\n",
       "      <td id=\"T_0619b_row15_col2\" class=\"data row15 col2\" >0.000000</td>\n",
       "    </tr>\n",
       "    <tr>\n",
       "      <th id=\"T_0619b_level0_row16\" class=\"row_heading level0 row16\" >28416</th>\n",
       "      <td id=\"T_0619b_row16_col0\" class=\"data row16 col0\" >83.512500</td>\n",
       "      <td id=\"T_0619b_row16_col1\" class=\"data row16 col1\" >89.102804</td>\n",
       "      <td id=\"T_0619b_row16_col2\" class=\"data row16 col2\" >-5.590304</td>\n",
       "    </tr>\n",
       "    <tr>\n",
       "      <th id=\"T_0619b_level0_row17\" class=\"row_heading level0 row17\" >23278</th>\n",
       "      <td id=\"T_0619b_row17_col0\" class=\"data row17 col0\" >0.000000</td>\n",
       "      <td id=\"T_0619b_row17_col1\" class=\"data row17 col1\" >0.000000</td>\n",
       "      <td id=\"T_0619b_row17_col2\" class=\"data row17 col2\" >0.000000</td>\n",
       "    </tr>\n",
       "    <tr>\n",
       "      <th id=\"T_0619b_level0_row18\" class=\"row_heading level0 row18\" >38018</th>\n",
       "      <td id=\"T_0619b_row18_col0\" class=\"data row18 col0\" >355.728571</td>\n",
       "      <td id=\"T_0619b_row18_col1\" class=\"data row18 col1\" >357.186482</td>\n",
       "      <td id=\"T_0619b_row18_col2\" class=\"data row18 col2\" >-1.457911</td>\n",
       "    </tr>\n",
       "    <tr>\n",
       "      <th id=\"T_0619b_level0_row19\" class=\"row_heading level0 row19\" >35143</th>\n",
       "      <td id=\"T_0619b_row19_col0\" class=\"data row19 col0\" >0.000000</td>\n",
       "      <td id=\"T_0619b_row19_col1\" class=\"data row19 col1\" >0.000000</td>\n",
       "      <td id=\"T_0619b_row19_col2\" class=\"data row19 col2\" >0.000000</td>\n",
       "    </tr>\n",
       "    <tr>\n",
       "      <th id=\"T_0619b_level0_row20\" class=\"row_heading level0 row20\" >35990</th>\n",
       "      <td id=\"T_0619b_row20_col0\" class=\"data row20 col0\" >810.325000</td>\n",
       "      <td id=\"T_0619b_row20_col1\" class=\"data row20 col1\" >802.000250</td>\n",
       "      <td id=\"T_0619b_row20_col2\" class=\"data row20 col2\" >8.324750</td>\n",
       "    </tr>\n",
       "    <tr>\n",
       "      <th id=\"T_0619b_level0_row21\" class=\"row_heading level0 row21\" >40771</th>\n",
       "      <td id=\"T_0619b_row21_col0\" class=\"data row21 col0\" >545.171429</td>\n",
       "      <td id=\"T_0619b_row21_col1\" class=\"data row21 col1\" >547.395214</td>\n",
       "      <td id=\"T_0619b_row21_col2\" class=\"data row21 col2\" >-2.223786</td>\n",
       "    </tr>\n",
       "    <tr>\n",
       "      <th id=\"T_0619b_level0_row22\" class=\"row_heading level0 row22\" >3248</th>\n",
       "      <td id=\"T_0619b_row22_col0\" class=\"data row22 col0\" >258.300000</td>\n",
       "      <td id=\"T_0619b_row22_col1\" class=\"data row22 col1\" >246.790500</td>\n",
       "      <td id=\"T_0619b_row22_col2\" class=\"data row22 col2\" >11.509500</td>\n",
       "    </tr>\n",
       "    <tr>\n",
       "      <th id=\"T_0619b_level0_row23\" class=\"row_heading level0 row23\" >40849</th>\n",
       "      <td id=\"T_0619b_row23_col0\" class=\"data row23 col0\" >341.837500</td>\n",
       "      <td id=\"T_0619b_row23_col1\" class=\"data row23 col1\" >345.360982</td>\n",
       "      <td id=\"T_0619b_row23_col2\" class=\"data row23 col2\" >-3.523482</td>\n",
       "    </tr>\n",
       "    <tr>\n",
       "      <th id=\"T_0619b_level0_row24\" class=\"row_heading level0 row24\" >20385</th>\n",
       "      <td id=\"T_0619b_row24_col0\" class=\"data row24 col0\" >1108.925000</td>\n",
       "      <td id=\"T_0619b_row24_col1\" class=\"data row24 col1\" >1113.731679</td>\n",
       "      <td id=\"T_0619b_row24_col2\" class=\"data row24 col2\" >-4.806679</td>\n",
       "    </tr>\n",
       "  </tbody>\n",
       "</table>\n"
      ],
      "text/plain": [
       "<pandas.io.formats.style.Styler at 0x249e71caa10>"
      ]
     },
     "execution_count": 36,
     "metadata": {},
     "output_type": "execute_result"
    }
   ],
   "source": [
    "cross_check_final  = cross_check[cross_check['Error'] <= 20]\n",
    "cross_check_final.sample(25).style.background_gradient(\n",
    "        cmap='coolwarm').set_properties(**{\n",
    "            'font-family': 'Times',\n",
    "            'color': 'LigntGreen',\n",
    "            'font-size': '13px'\n",
    "        })"
   ]
  },
  {
   "cell_type": "code",
   "execution_count": 37,
   "id": "fe64e5d6",
   "metadata": {},
   "outputs": [],
   "source": [
    "import pandas as pd\n",
    "import numpy as np\n",
    "import seaborn as sns \n",
    "import matplotlib.pyplot as plt\n",
    "%matplotlib inline \n",
    "\n",
    "import warnings\n",
    "warnings.filterwarnings(\"ignore\")"
   ]
  },
  {
   "cell_type": "code",
   "execution_count": 38,
   "id": "aae1fdf9",
   "metadata": {},
   "outputs": [
    {
     "data": {
      "image/png": "[encoded data removed]",
      "text/plain": [
       "<Figure size 640x480 with 1 Axes>"
      ]
     },
     "metadata": {},
     "output_type": "display_data"
    }
   ],
   "source": [
    "\n",
    "# Visualizing the differences between actual prices and predicted values\n",
    "plt.scatter(y_test,forecast_prediction)\n",
    "plt.xlabel(\"Prices\")\n",
    "plt.ylabel(\"Predicted prices\")\n",
    "plt.title(\"Prices vs Predicted prices\")\n",
    "plt.show()"
   ]
  },
  {
   "cell_type": "code",
   "execution_count": 39,
   "id": "ec8af20b",
   "metadata": {},
   "outputs": [
    {
     "data": {
      "image/png": "[encoded data removed]",
      "text/plain": [
       "<Figure size 2000x1000 with 1 Axes>"
      ]
     },
     "metadata": {},
     "output_type": "display_data"
    }
   ],
   "source": [
    "#plot of a bar chart using DataFrame cross_check and the first 50 rows of data\n",
    "\n",
    "d = cross_check.head(50)\n",
    "d.plot(kind='bar',figsize=(20,10))\n",
    "plt.grid(which='major', linestyle='-', linewidth='0.5',color='green')\n",
    "plt.grid(which='minor', linestyle=':', linewidth='0.5',color='black')\n",
    "plt.show()"
   ]
  },
  {
   "cell_type": "code",
   "execution_count": 40,
   "id": "45f96fb1",
   "metadata": {},
   "outputs": [
    {
     "data": {
      "text/html": [
       "<div>\n",
       "<style scoped>\n",
       "    .dataframe tbody tr th:only-of-type {\n",
       "        vertical-align: middle;\n",
       "    }\n",
       "\n",
       "    .dataframe tbody tr th {\n",
       "        vertical-align: top;\n",
       "    }\n",
       "\n",
       "    .dataframe thead th {\n",
       "        text-align: right;\n",
       "    }\n",
       "</style>\n",
       "<table border=\"1\" class=\"dataframe\">\n",
       "  <thead>\n",
       "    <tr style=\"text-align: right;\">\n",
       "      <th></th>\n",
       "      <th>Unnamed: 0</th>\n",
       "      <th>SOURCE_KEY</th>\n",
       "      <th>DC_POWER</th>\n",
       "      <th>AC_POWER</th>\n",
       "      <th>DAILY_YIELD</th>\n",
       "      <th>TOTAL_YIELD</th>\n",
       "      <th>DATE_TIME</th>\n",
       "      <th>AMBIENT_TEMPERATURE</th>\n",
       "      <th>MODULE_TEMPERATURE</th>\n",
       "      <th>IRRADIATION</th>\n",
       "      <th>DATE</th>\n",
       "      <th>TIME</th>\n",
       "      <th>DAY</th>\n",
       "      <th>MONTH</th>\n",
       "      <th>WEEK</th>\n",
       "      <th>HOURS</th>\n",
       "      <th>MINUTES</th>\n",
       "      <th>TOTAL MINUTES PASS</th>\n",
       "      <th>DATE_STRING</th>\n",
       "      <th>SOURCE_KEY_NUMBER</th>\n",
       "    </tr>\n",
       "  </thead>\n",
       "  <tbody>\n",
       "    <tr>\n",
       "      <th>0</th>\n",
       "      <td>0</td>\n",
       "      <td>1BY6WEcLGh8j5v7</td>\n",
       "      <td>0.0</td>\n",
       "      <td>0.0</td>\n",
       "      <td>0.0</td>\n",
       "      <td>6259559.0</td>\n",
       "      <td>2020-05-15 00:00:00</td>\n",
       "      <td>25.184316</td>\n",
       "      <td>22.857507</td>\n",
       "      <td>0.0</td>\n",
       "      <td>2020-05-15</td>\n",
       "      <td>00:00:00</td>\n",
       "      <td>15</td>\n",
       "      <td>5</td>\n",
       "      <td>20</td>\n",
       "      <td>0</td>\n",
       "      <td>0</td>\n",
       "      <td>0</td>\n",
       "      <td>2020-05-15</td>\n",
       "      <td>0</td>\n",
       "    </tr>\n",
       "    <tr>\n",
       "      <th>1</th>\n",
       "      <td>1</td>\n",
       "      <td>1IF53ai7Xc0U56Y</td>\n",
       "      <td>0.0</td>\n",
       "      <td>0.0</td>\n",
       "      <td>0.0</td>\n",
       "      <td>6183645.0</td>\n",
       "      <td>2020-05-15 00:00:00</td>\n",
       "      <td>25.184316</td>\n",
       "      <td>22.857507</td>\n",
       "      <td>0.0</td>\n",
       "      <td>2020-05-15</td>\n",
       "      <td>00:00:00</td>\n",
       "      <td>15</td>\n",
       "      <td>5</td>\n",
       "      <td>20</td>\n",
       "      <td>0</td>\n",
       "      <td>0</td>\n",
       "      <td>0</td>\n",
       "      <td>2020-05-15</td>\n",
       "      <td>1</td>\n",
       "    </tr>\n",
       "    <tr>\n",
       "      <th>2</th>\n",
       "      <td>2</td>\n",
       "      <td>3PZuoBAID5Wc2HD</td>\n",
       "      <td>0.0</td>\n",
       "      <td>0.0</td>\n",
       "      <td>0.0</td>\n",
       "      <td>6987759.0</td>\n",
       "      <td>2020-05-15 00:00:00</td>\n",
       "      <td>25.184316</td>\n",
       "      <td>22.857507</td>\n",
       "      <td>0.0</td>\n",
       "      <td>2020-05-15</td>\n",
       "      <td>00:00:00</td>\n",
       "      <td>15</td>\n",
       "      <td>5</td>\n",
       "      <td>20</td>\n",
       "      <td>0</td>\n",
       "      <td>0</td>\n",
       "      <td>0</td>\n",
       "      <td>2020-05-15</td>\n",
       "      <td>2</td>\n",
       "    </tr>\n",
       "    <tr>\n",
       "      <th>3</th>\n",
       "      <td>3</td>\n",
       "      <td>7JYdWkrLSPkdwr4</td>\n",
       "      <td>0.0</td>\n",
       "      <td>0.0</td>\n",
       "      <td>0.0</td>\n",
       "      <td>7602960.0</td>\n",
       "      <td>2020-05-15 00:00:00</td>\n",
       "      <td>25.184316</td>\n",
       "      <td>22.857507</td>\n",
       "      <td>0.0</td>\n",
       "      <td>2020-05-15</td>\n",
       "      <td>00:00:00</td>\n",
       "      <td>15</td>\n",
       "      <td>5</td>\n",
       "      <td>20</td>\n",
       "      <td>0</td>\n",
       "      <td>0</td>\n",
       "      <td>0</td>\n",
       "      <td>2020-05-15</td>\n",
       "      <td>3</td>\n",
       "    </tr>\n",
       "    <tr>\n",
       "      <th>4</th>\n",
       "      <td>4</td>\n",
       "      <td>McdE0feGgRqW7Ca</td>\n",
       "      <td>0.0</td>\n",
       "      <td>0.0</td>\n",
       "      <td>0.0</td>\n",
       "      <td>7158964.0</td>\n",
       "      <td>2020-05-15 00:00:00</td>\n",
       "      <td>25.184316</td>\n",
       "      <td>22.857507</td>\n",
       "      <td>0.0</td>\n",
       "      <td>2020-05-15</td>\n",
       "      <td>00:00:00</td>\n",
       "      <td>15</td>\n",
       "      <td>5</td>\n",
       "      <td>20</td>\n",
       "      <td>0</td>\n",
       "      <td>0</td>\n",
       "      <td>0</td>\n",
       "      <td>2020-05-15</td>\n",
       "      <td>4</td>\n",
       "    </tr>\n",
       "  </tbody>\n",
       "</table>\n",
       "</div>"
      ],
      "text/plain": [
       "   Unnamed: 0       SOURCE_KEY  DC_POWER  AC_POWER  DAILY_YIELD  TOTAL_YIELD  \\\n",
       "0           0  1BY6WEcLGh8j5v7       0.0       0.0          0.0    6259559.0   \n",
       "1           1  1IF53ai7Xc0U56Y       0.0       0.0          0.0    6183645.0   \n",
       "2           2  3PZuoBAID5Wc2HD       0.0       0.0          0.0    6987759.0   \n",
       "3           3  7JYdWkrLSPkdwr4       0.0       0.0          0.0    7602960.0   \n",
       "4           4  McdE0feGgRqW7Ca       0.0       0.0          0.0    7158964.0   \n",
       "\n",
       "             DATE_TIME  AMBIENT_TEMPERATURE  MODULE_TEMPERATURE  IRRADIATION  \\\n",
       "0  2020-05-15 00:00:00            25.184316           22.857507          0.0   \n",
       "1  2020-05-15 00:00:00            25.184316           22.857507          0.0   \n",
       "2  2020-05-15 00:00:00            25.184316           22.857507          0.0   \n",
       "3  2020-05-15 00:00:00            25.184316           22.857507          0.0   \n",
       "4  2020-05-15 00:00:00            25.184316           22.857507          0.0   \n",
       "\n",
       "         DATE      TIME  DAY  MONTH  WEEK  HOURS  MINUTES  TOTAL MINUTES PASS  \\\n",
       "0  2020-05-15  00:00:00   15      5    20      0        0                   0   \n",
       "1  2020-05-15  00:00:00   15      5    20      0        0                   0   \n",
       "2  2020-05-15  00:00:00   15      5    20      0        0                   0   \n",
       "3  2020-05-15  00:00:00   15      5    20      0        0                   0   \n",
       "4  2020-05-15  00:00:00   15      5    20      0        0                   0   \n",
       "\n",
       "  DATE_STRING  SOURCE_KEY_NUMBER  \n",
       "0  2020-05-15                  0  \n",
       "1  2020-05-15                  1  \n",
       "2  2020-05-15                  2  \n",
       "3  2020-05-15                  3  \n",
       "4  2020-05-15                  4  "
      ]
     },
     "execution_count": 40,
     "metadata": {},
     "output_type": "execute_result"
    }
   ],
   "source": [
    "df_ml.head()"
   ]
  },
  {
   "cell_type": "code",
   "execution_count": 41,
   "id": "5eb68b51",
   "metadata": {},
   "outputs": [
    {
     "data": {
      "text/html": [
       "<div>\n",
       "<style scoped>\n",
       "    .dataframe tbody tr th:only-of-type {\n",
       "        vertical-align: middle;\n",
       "    }\n",
       "\n",
       "    .dataframe tbody tr th {\n",
       "        vertical-align: top;\n",
       "    }\n",
       "\n",
       "    .dataframe thead th {\n",
       "        text-align: right;\n",
       "    }\n",
       "</style>\n",
       "<table border=\"1\" class=\"dataframe\">\n",
       "  <thead>\n",
       "    <tr style=\"text-align: right;\">\n",
       "      <th></th>\n",
       "      <th>Unnamed: 0</th>\n",
       "      <th>SOURCE_KEY</th>\n",
       "      <th>DC_POWER</th>\n",
       "      <th>AC_POWER</th>\n",
       "      <th>DAILY_YIELD</th>\n",
       "      <th>TOTAL_YIELD</th>\n",
       "      <th>DATE_TIME</th>\n",
       "      <th>AMBIENT_TEMPERATURE</th>\n",
       "      <th>MODULE_TEMPERATURE</th>\n",
       "      <th>IRRADIATION</th>\n",
       "      <th>DATE</th>\n",
       "      <th>TIME</th>\n",
       "      <th>DAY</th>\n",
       "      <th>MONTH</th>\n",
       "      <th>WEEK</th>\n",
       "      <th>HOURS</th>\n",
       "      <th>MINUTES</th>\n",
       "      <th>TOTAL MINUTES PASS</th>\n",
       "      <th>DATE_STRING</th>\n",
       "      <th>SOURCE_KEY_NUMBER</th>\n",
       "    </tr>\n",
       "  </thead>\n",
       "  <tbody>\n",
       "    <tr>\n",
       "      <th>45675</th>\n",
       "      <td>45675</td>\n",
       "      <td>uHbuxQJl8lW7ozc</td>\n",
       "      <td>0.0</td>\n",
       "      <td>0.0</td>\n",
       "      <td>5967.000</td>\n",
       "      <td>7287002.0</td>\n",
       "      <td>2020-06-17 23:45:00</td>\n",
       "      <td>21.909288</td>\n",
       "      <td>20.427972</td>\n",
       "      <td>0.0</td>\n",
       "      <td>2020-06-17</td>\n",
       "      <td>23:45:00</td>\n",
       "      <td>17</td>\n",
       "      <td>6</td>\n",
       "      <td>25</td>\n",
       "      <td>23</td>\n",
       "      <td>45</td>\n",
       "      <td>1425</td>\n",
       "      <td>2020-06-17</td>\n",
       "      <td>17</td>\n",
       "    </tr>\n",
       "    <tr>\n",
       "      <th>45676</th>\n",
       "      <td>45676</td>\n",
       "      <td>wCURE6d3bPkepu2</td>\n",
       "      <td>0.0</td>\n",
       "      <td>0.0</td>\n",
       "      <td>5147.625</td>\n",
       "      <td>7028601.0</td>\n",
       "      <td>2020-06-17 23:45:00</td>\n",
       "      <td>21.909288</td>\n",
       "      <td>20.427972</td>\n",
       "      <td>0.0</td>\n",
       "      <td>2020-06-17</td>\n",
       "      <td>23:45:00</td>\n",
       "      <td>17</td>\n",
       "      <td>6</td>\n",
       "      <td>25</td>\n",
       "      <td>23</td>\n",
       "      <td>45</td>\n",
       "      <td>1425</td>\n",
       "      <td>2020-06-17</td>\n",
       "      <td>18</td>\n",
       "    </tr>\n",
       "    <tr>\n",
       "      <th>45677</th>\n",
       "      <td>45677</td>\n",
       "      <td>z9Y9gH1T5YWrNuG</td>\n",
       "      <td>0.0</td>\n",
       "      <td>0.0</td>\n",
       "      <td>5819.000</td>\n",
       "      <td>7251204.0</td>\n",
       "      <td>2020-06-17 23:45:00</td>\n",
       "      <td>21.909288</td>\n",
       "      <td>20.427972</td>\n",
       "      <td>0.0</td>\n",
       "      <td>2020-06-17</td>\n",
       "      <td>23:45:00</td>\n",
       "      <td>17</td>\n",
       "      <td>6</td>\n",
       "      <td>25</td>\n",
       "      <td>23</td>\n",
       "      <td>45</td>\n",
       "      <td>1425</td>\n",
       "      <td>2020-06-17</td>\n",
       "      <td>19</td>\n",
       "    </tr>\n",
       "    <tr>\n",
       "      <th>45678</th>\n",
       "      <td>45678</td>\n",
       "      <td>zBIq5rxdHJRwDNY</td>\n",
       "      <td>0.0</td>\n",
       "      <td>0.0</td>\n",
       "      <td>5817.000</td>\n",
       "      <td>6583369.0</td>\n",
       "      <td>2020-06-17 23:45:00</td>\n",
       "      <td>21.909288</td>\n",
       "      <td>20.427972</td>\n",
       "      <td>0.0</td>\n",
       "      <td>2020-06-17</td>\n",
       "      <td>23:45:00</td>\n",
       "      <td>17</td>\n",
       "      <td>6</td>\n",
       "      <td>25</td>\n",
       "      <td>23</td>\n",
       "      <td>45</td>\n",
       "      <td>1425</td>\n",
       "      <td>2020-06-17</td>\n",
       "      <td>20</td>\n",
       "    </tr>\n",
       "    <tr>\n",
       "      <th>45679</th>\n",
       "      <td>45679</td>\n",
       "      <td>zVJPv84UY57bAof</td>\n",
       "      <td>0.0</td>\n",
       "      <td>0.0</td>\n",
       "      <td>5910.000</td>\n",
       "      <td>7363272.0</td>\n",
       "      <td>2020-06-17 23:45:00</td>\n",
       "      <td>21.909288</td>\n",
       "      <td>20.427972</td>\n",
       "      <td>0.0</td>\n",
       "      <td>2020-06-17</td>\n",
       "      <td>23:45:00</td>\n",
       "      <td>17</td>\n",
       "      <td>6</td>\n",
       "      <td>25</td>\n",
       "      <td>23</td>\n",
       "      <td>45</td>\n",
       "      <td>1425</td>\n",
       "      <td>2020-06-17</td>\n",
       "      <td>21</td>\n",
       "    </tr>\n",
       "  </tbody>\n",
       "</table>\n",
       "</div>"
      ],
      "text/plain": [
       "       Unnamed: 0       SOURCE_KEY  DC_POWER  AC_POWER  DAILY_YIELD  \\\n",
       "45675       45675  uHbuxQJl8lW7ozc       0.0       0.0     5967.000   \n",
       "45676       45676  wCURE6d3bPkepu2       0.0       0.0     5147.625   \n",
       "45677       45677  z9Y9gH1T5YWrNuG       0.0       0.0     5819.000   \n",
       "45678       45678  zBIq5rxdHJRwDNY       0.0       0.0     5817.000   \n",
       "45679       45679  zVJPv84UY57bAof       0.0       0.0     5910.000   \n",
       "\n",
       "       TOTAL_YIELD            DATE_TIME  AMBIENT_TEMPERATURE  \\\n",
       "45675    7287002.0  2020-06-17 23:45:00            21.909288   \n",
       "45676    7028601.0  2020-06-17 23:45:00            21.909288   \n",
       "45677    7251204.0  2020-06-17 23:45:00            21.909288   \n",
       "45678    6583369.0  2020-06-17 23:45:00            21.909288   \n",
       "45679    7363272.0  2020-06-17 23:45:00            21.909288   \n",
       "\n",
       "       MODULE_TEMPERATURE  IRRADIATION        DATE      TIME  DAY  MONTH  \\\n",
       "45675           20.427972          0.0  2020-06-17  23:45:00   17      6   \n",
       "45676           20.427972          0.0  2020-06-17  23:45:00   17      6   \n",
       "45677           20.427972          0.0  2020-06-17  23:45:00   17      6   \n",
       "45678           20.427972          0.0  2020-06-17  23:45:00   17      6   \n",
       "45679           20.427972          0.0  2020-06-17  23:45:00   17      6   \n",
       "\n",
       "       WEEK  HOURS  MINUTES  TOTAL MINUTES PASS DATE_STRING  SOURCE_KEY_NUMBER  \n",
       "45675    25     23       45                1425  2020-06-17                 17  \n",
       "45676    25     23       45                1425  2020-06-17                 18  \n",
       "45677    25     23       45                1425  2020-06-17                 19  \n",
       "45678    25     23       45                1425  2020-06-17                 20  \n",
       "45679    25     23       45                1425  2020-06-17                 21  "
      ]
     },
     "execution_count": 41,
     "metadata": {},
     "output_type": "execute_result"
    }
   ],
   "source": [
    "df_ml.tail()"
   ]
  },
  {
   "cell_type": "code",
   "execution_count": 54,
   "id": "b22fde74",
   "metadata": {},
   "outputs": [
    {
     "name": "stdout",
     "output_type": "stream",
     "text": [
      "[1345.32417867]\n"
     ]
    }
   ],
   "source": [
    "# consider random values\n",
    "\n",
    "X = data[['DAILY_YIELD', 'TOTAL_YIELD', 'AMBIENT_TEMPERATURE', 'IRRADIATION']]\n",
    "y = data['AC_POWER']\n",
    "\n",
    "#test_data = np.array([5600,6259559,25.184316,0.0,0.0])\n",
    "\n",
    "\n",
    "#print(X_test)\n",
    "\n",
    "test_data = {'DAILY_YIELD': [9163], 'TOTAL_YIELD': [7846821.0], 'AMBIENT_TEMPERATURE': [35.25248613333334],'IRRADIATION': [1.2216518466666668]}\n",
    "test_data1=pd.DataFrame(test_data)\n",
    "#print(test_data1)\n",
    "#test_data1.shape\n",
    "newpred=rfr.predict(test_data1)\n",
    "print(newpred)"
   ]
  }
 ],
 "metadata": {
  "kernelspec": {
   "display_name": "Python 3 (ipykernel)",
   "language": "python",
   "name": "python3"
  },
  "language_info": {
   "codemirror_mode": {
    "name": "ipython",
    "version": 3
   },
   "file_extension": ".py",
   "mimetype": "text/x-python",
   "name": "python",
   "nbconvert_exporter": "python",
   "pygments_lexer": "ipython3",
   "version": "3.10.9"
  }
 },
 "nbformat": 4,
 "nbformat_minor": 5
}
